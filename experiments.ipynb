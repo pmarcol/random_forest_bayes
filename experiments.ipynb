{
 "cells": [
  {
   "cell_type": "code",
   "execution_count": 1,
   "metadata": {},
   "outputs": [],
   "source": [
    "import pandas as pd\n",
    "import numpy as np"
   ]
  },
  {
   "cell_type": "code",
   "execution_count": 2,
   "metadata": {},
   "outputs": [],
   "source": [
    "with open(\"column_names.txt\") as f:\n",
    "    names = f.read()"
   ]
  },
  {
   "cell_type": "code",
   "execution_count": 3,
   "metadata": {},
   "outputs": [],
   "source": [
    "names = names.split(',')"
   ]
  },
  {
   "cell_type": "code",
   "execution_count": 4,
   "metadata": {},
   "outputs": [
    {
     "data": {
      "text/plain": [
       "['label',\n",
       " 'cap-shape',\n",
       " 'cap-surface',\n",
       " 'cap-color',\n",
       " 'bruises',\n",
       " 'odor',\n",
       " 'gill-attachment',\n",
       " 'gill-spacing',\n",
       " 'gill-size',\n",
       " 'gill-color',\n",
       " 'stalk-shape',\n",
       " 'stalk-root',\n",
       " 'stalk-surface-above-ring',\n",
       " 'stalk-surface-below-ring',\n",
       " 'stalk-color-above-ring',\n",
       " 'stalk-color-below-ring',\n",
       " 'veil-type',\n",
       " 'veil-color',\n",
       " 'ring-number',\n",
       " 'ring-type',\n",
       " 'spore-print-color',\n",
       " 'population',\n",
       " 'habitat']"
      ]
     },
     "execution_count": 4,
     "metadata": {},
     "output_type": "execute_result"
    }
   ],
   "source": [
    "names"
   ]
  },
  {
   "cell_type": "code",
   "execution_count": 5,
   "metadata": {},
   "outputs": [],
   "source": [
    "df = pd.read_csv('agaricus-lepiota.data', header=None, na_values='?')"
   ]
  },
  {
   "cell_type": "code",
   "execution_count": 6,
   "metadata": {},
   "outputs": [],
   "source": [
    "df.columns = names"
   ]
  },
  {
   "cell_type": "code",
   "execution_count": 7,
   "metadata": {},
   "outputs": [],
   "source": [
    "df = df.dropna()"
   ]
  },
  {
   "cell_type": "code",
   "execution_count": 8,
   "metadata": {
    "scrolled": true
   },
   "outputs": [
    {
     "name": "stdout",
     "output_type": "stream",
     "text": [
      "label ['p' 'e']\n",
      "cap-shape ['x' 'b' 's' 'f' 'k' 'c']\n",
      "cap-surface ['s' 'y' 'f' 'g']\n",
      "cap-color ['n' 'y' 'w' 'g' 'e' 'p' 'b' 'c']\n",
      "bruises ['t' 'f']\n",
      "odor ['p' 'a' 'l' 'n' 'f' 'c' 'm']\n",
      "gill-attachment ['f' 'a']\n",
      "gill-spacing ['c' 'w']\n",
      "gill-size ['n' 'b']\n",
      "gill-color ['k' 'n' 'g' 'p' 'w' 'h' 'u' 'r' 'y']\n",
      "stalk-shape ['e' 't']\n",
      "stalk-root ['e' 'c' 'b' 'r']\n",
      "stalk-surface-above-ring ['s' 'f' 'k' 'y']\n",
      "stalk-surface-below-ring ['s' 'f' 'y' 'k']\n",
      "stalk-color-above-ring ['w' 'g' 'p' 'n' 'b' 'c' 'y']\n",
      "stalk-color-below-ring ['w' 'p' 'g' 'b' 'n' 'c' 'y']\n",
      "veil-type ['p']\n",
      "veil-color ['w' 'y']\n",
      "ring-number ['o' 't' 'n']\n",
      "ring-type ['p' 'e' 'l' 'n']\n",
      "spore-print-color ['k' 'n' 'u' 'h' 'r' 'w']\n",
      "population ['s' 'n' 'a' 'v' 'y' 'c']\n",
      "habitat ['u' 'g' 'm' 'd' 'p' 'l']\n"
     ]
    }
   ],
   "source": [
    "for col in names:\n",
    "    print(col, df[col].unique())"
   ]
  },
  {
   "cell_type": "code",
   "execution_count": 9,
   "metadata": {},
   "outputs": [],
   "source": [
    "df = df.drop('veil-type', axis=1)\n",
    "names.remove('veil-type')"
   ]
  },
  {
   "cell_type": "code",
   "execution_count": 10,
   "metadata": {},
   "outputs": [],
   "source": [
    "X_df = df[names[1:]]\n",
    "y_df = df[names[:1]]"
   ]
  },
  {
   "cell_type": "code",
   "execution_count": 11,
   "metadata": {},
   "outputs": [],
   "source": [
    "X = X_df.values\n",
    "y = y_df.values"
   ]
  },
  {
   "cell_type": "code",
   "execution_count": 12,
   "metadata": {},
   "outputs": [],
   "source": [
    "from naive_bayes_categorical import NBCategorical\n",
    "from sklearn.model_selection import train_test_split\n",
    "from sklearn.metrics import accuracy_score"
   ]
  },
  {
   "cell_type": "code",
   "execution_count": 13,
   "metadata": {},
   "outputs": [],
   "source": [
    "X_train, X_test, y_train, y_test = train_test_split(X, y, test_size=0.25)"
   ]
  },
  {
   "cell_type": "markdown",
   "metadata": {},
   "source": [
    "# Naive Bayes - one model"
   ]
  },
  {
   "cell_type": "code",
   "execution_count": 14,
   "metadata": {},
   "outputs": [],
   "source": [
    "model = NBCategorical(smoothing_parameter=0.0)"
   ]
  },
  {
   "cell_type": "code",
   "execution_count": 15,
   "metadata": {},
   "outputs": [],
   "source": [
    "model.fit(X_train, y_train)"
   ]
  },
  {
   "cell_type": "code",
   "execution_count": 16,
   "metadata": {},
   "outputs": [],
   "source": [
    "y_pred = model.predict(X_test)"
   ]
  },
  {
   "cell_type": "code",
   "execution_count": 17,
   "metadata": {},
   "outputs": [
    {
     "data": {
      "text/plain": [
       "0.9950389794472005"
      ]
     },
     "execution_count": 17,
     "metadata": {},
     "output_type": "execute_result"
    }
   ],
   "source": [
    "accuracy_score(y_test, y_pred)"
   ]
  },
  {
   "cell_type": "markdown",
   "metadata": {},
   "source": [
    "# Random Bayes - many models"
   ]
  },
  {
   "cell_type": "code",
   "execution_count": 18,
   "metadata": {},
   "outputs": [],
   "source": [
    "from random_bayes import RandomBayes"
   ]
  },
  {
   "cell_type": "code",
   "execution_count": 19,
   "metadata": {},
   "outputs": [],
   "source": [
    "model_rb = RandomBayes(n_submodels=30, n_features=5, smooth=1.0)"
   ]
  },
  {
   "cell_type": "code",
   "execution_count": 20,
   "metadata": {},
   "outputs": [],
   "source": [
    "model_rb.fit(X_train, y_train)"
   ]
  },
  {
   "cell_type": "code",
   "execution_count": 21,
   "metadata": {},
   "outputs": [
    {
     "name": "stderr",
     "output_type": "stream",
     "text": [
      "/anaconda3/lib/python3.7/site-packages/scipy/stats/stats.py:245: RuntimeWarning: The input array could not be properly checked for nan values. nan values will be ignored.\n",
      "  \"values. nan values will be ignored.\", RuntimeWarning)\n"
     ]
    }
   ],
   "source": [
    "y_pred_rb = model_rb.predict(X_test)"
   ]
  },
  {
   "cell_type": "code",
   "execution_count": 22,
   "metadata": {},
   "outputs": [
    {
     "data": {
      "text/plain": [
       "0.9326718639262934"
      ]
     },
     "execution_count": 22,
     "metadata": {},
     "output_type": "execute_result"
    }
   ],
   "source": [
    "accuracy_score(y_test, y_pred_rb)"
   ]
  },
  {
   "cell_type": "code",
   "execution_count": 23,
   "metadata": {},
   "outputs": [
    {
     "data": {
      "text/plain": [
       "0.9950389794472005"
      ]
     },
     "execution_count": 23,
     "metadata": {},
     "output_type": "execute_result"
    }
   ],
   "source": [
    "accuracy_score(y_test, y_pred)"
   ]
  },
  {
   "cell_type": "markdown",
   "metadata": {},
   "source": [
    "\n",
    "# Experiments"
   ]
  },
  {
   "cell_type": "code",
   "execution_count": 24,
   "metadata": {},
   "outputs": [],
   "source": [
    "import itertools\n",
    "\n",
    "n_submodels_vals = [5, 10, 20, 50, 100]\n",
    "n_features_vals = [5, 10, 15, 20]\n",
    "smooth_vals = [0.0, 0.5, 1.0, 5.0]\n",
    "bootstrap_vals = [True, False]\n",
    "\n",
    "combinations = list(itertools.product(n_submodels_vals, n_features_vals, smooth_vals, bootstrap_vals))\n",
    "num_iterations = 10"
   ]
  },
  {
   "cell_type": "code",
   "execution_count": 31,
   "metadata": {},
   "outputs": [],
   "source": [
    "def process(c):\n",
    "    print(c)\n",
    "    rb_list = []\n",
    "    sb_list = []\n",
    "    \n",
    "    for _ in range(num_iterations):\n",
    "        X_train, X_test, y_train, y_test = train_test_split(X, y, test_size=0.25)\n",
    "        \n",
    "        model_rb = RandomBayes(n_submodels=c[0], n_features=c[1], smooth=c[2], bootstrap=c[3])\n",
    "        model_rb.fit(X_train, y_train)\n",
    "        rb_list.append(accuracy_score(y_test, model_rb.predict(X_test)))\n",
    "        \n",
    "        if c[2] in single_bayes_results.keys():\n",
    "            continue\n",
    "        else:\n",
    "            model_sb = NBCategorical(smoothing_parameter=c[2])\n",
    "            model_sb.fit(X_train, y_train)\n",
    "            sb_list.append(accuracy_score(y_test, model_sb.predict(X_test)))\n",
    "        \n",
    "    rb_mean = np.mean(np.array(rb_list))\n",
    "    rb_std = np.std(np.array(rb_list))\n",
    "    random_bayes_results[c] = (rb_mean, rb_std)\n",
    "    if c[2] in single_bayes_results.keys():\n",
    "        return\n",
    "    else:\n",
    "        sb_mean = np.mean(np.array(sb_list))\n",
    "        sb_std = np.std(np.array(sb_list))\n",
    "        single_bayes_results[c] = (sb_mean, sb_std)"
   ]
  },
  {
   "cell_type": "code",
   "execution_count": 32,
   "metadata": {},
   "outputs": [
    {
     "name": "stdout",
     "output_type": "stream",
     "text": [
      "(5, 5, 1.0, False)\n",
      "(5, 10, 0.5, True)\n",
      "(5, 5, 0.0, True)\n",
      "(5, 15, 1.0, True)\n",
      "(5, 20, 0.0, False)\n",
      "(5, 10, 5.0, False)\n",
      "(5, 20, 5.0, True)\n",
      "(10, 5, 0.5, False)\n"
     ]
    },
    {
     "name": "stderr",
     "output_type": "stream",
     "text": [
      "/anaconda3/lib/python3.7/site-packages/scipy/stats/stats.py:245: RuntimeWarning: The input array could not be properly checked for nan values. nan values will be ignored.\n",
      "  \"values. nan values will be ignored.\", RuntimeWarning)\n",
      "/anaconda3/lib/python3.7/site-packages/scipy/stats/stats.py:245: RuntimeWarning: The input array could not be properly checked for nan values. nan values will be ignored.\n",
      "  \"values. nan values will be ignored.\", RuntimeWarning)\n",
      "/anaconda3/lib/python3.7/site-packages/scipy/stats/stats.py:245: RuntimeWarning: The input array could not be properly checked for nan values. nan values will be ignored.\n",
      "  \"values. nan values will be ignored.\", RuntimeWarning)\n",
      "/anaconda3/lib/python3.7/site-packages/scipy/stats/stats.py:245: RuntimeWarning: The input array could not be properly checked for nan values. nan values will be ignored.\n",
      "  \"values. nan values will be ignored.\", RuntimeWarning)\n",
      "/anaconda3/lib/python3.7/site-packages/scipy/stats/stats.py:245: RuntimeWarning: The input array could not be properly checked for nan values. nan values will be ignored.\n",
      "  \"values. nan values will be ignored.\", RuntimeWarning)\n",
      "/anaconda3/lib/python3.7/site-packages/scipy/stats/stats.py:245: RuntimeWarning: The input array could not be properly checked for nan values. nan values will be ignored.\n",
      "  \"values. nan values will be ignored.\", RuntimeWarning)\n",
      "/anaconda3/lib/python3.7/site-packages/scipy/stats/stats.py:245: RuntimeWarning: The input array could not be properly checked for nan values. nan values will be ignored.\n",
      "  \"values. nan values will be ignored.\", RuntimeWarning)\n",
      "/anaconda3/lib/python3.7/site-packages/scipy/stats/stats.py:245: RuntimeWarning: The input array could not be properly checked for nan values. nan values will be ignored.\n",
      "  \"values. nan values will be ignored.\", RuntimeWarning)\n"
     ]
    },
    {
     "name": "stdout",
     "output_type": "stream",
     "text": [
      "(5, 5, 5.0, True)\n",
      "(5, 5, 0.0, False)\n",
      "(5, 15, 0.0, True)\n",
      "(5, 10, 0.5, False)\n",
      "(10, 5, 1.0, True)\n",
      "(5, 5, 5.0, False)\n",
      "(5, 5, 0.5, True)\n",
      "(5, 15, 1.0, False)\n",
      "(5, 20, 0.5, True)\n",
      "(5, 20, 5.0, False)\n",
      "(5, 10, 0.0, True)\n",
      "(5, 5, 0.5, False)\n",
      "(5, 10, 1.0, True)\n",
      "(10, 5, 1.0, False)\n",
      "(5, 15, 0.0, False)\n",
      "(5, 5, 1.0, True)\n",
      "(5, 15, 5.0, True)\n",
      "(5, 10, 0.0, False)\n",
      "(5, 10, 1.0, False)\n",
      "(10, 5, 5.0, True)\n",
      "(10, 10, 0.0, True)\n",
      "(10, 5, 0.0, True)\n",
      "(5, 20, 0.5, False)\n",
      "(5, 15, 0.5, True)\n",
      "(10, 10, 1.0, False)\n",
      "(5, 10, 5.0, True)\n",
      "(5, 15, 5.0, False)\n",
      "(10, 5, 5.0, False)\n",
      "(10, 5, 0.0, False)\n",
      "(5, 15, 0.5, False)\n",
      "(5, 20, 1.0, True)\n",
      "(10, 15, 0.5, True)\n",
      "(10, 10, 0.0, False)\n",
      "(10, 15, 5.0, False)\n",
      "(5, 20, 0.0, True)\n",
      "(10, 5, 0.5, True)\n",
      "(10, 10, 5.0, True)\n",
      "(10, 20, 1.0, True)\n",
      "(20, 5, 0.0, False)\n",
      "(5, 20, 1.0, False)\n",
      "(10, 10, 0.5, True)\n",
      "(20, 5, 5.0, True)\n",
      "(10, 10, 5.0, False)\n",
      "(10, 15, 0.5, False)\n",
      "(10, 20, 0.0, True)\n",
      "(20, 5, 0.5, True)\n",
      "(20, 10, 0.5, False)\n",
      "(10, 10, 0.5, False)\n",
      "(20, 5, 5.0, False)\n",
      "(10, 15, 0.0, True)\n",
      "(10, 20, 1.0, False)\n",
      "(10, 15, 1.0, True)\n",
      "(20, 5, 0.5, False)\n",
      "(10, 10, 1.0, True)\n",
      "(20, 10, 0.0, True)\n",
      "(10, 20, 0.0, False)\n",
      "(20, 10, 1.0, True)\n",
      "(10, 15, 0.0, False)\n",
      "(20, 5, 1.0, True)\n",
      "(20, 15, 0.0, True)\n",
      "(10, 15, 1.0, False)\n",
      "(10, 20, 5.0, True)\n",
      "(20, 5, 1.0, False)\n",
      "(10, 20, 0.5, True)\n",
      "(20, 10, 0.0, False)\n",
      "(20, 15, 1.0, False)\n",
      "(10, 15, 5.0, True)\n",
      "(20, 10, 1.0, False)\n",
      "(20, 20, 0.5, True)\n",
      "(10, 20, 5.0, False)\n",
      "(20, 15, 0.0, False)\n",
      "(10, 20, 0.5, False)\n",
      "(20, 10, 0.5, True)\n",
      "(20, 20, 5.0, False)\n",
      "(20, 10, 5.0, True)\n",
      "(20, 15, 5.0, True)\n",
      "(20, 5, 0.0, True)\n",
      "(50, 5, 1.0, True)\n",
      "(50, 10, 0.0, False)\n",
      "(50, 10, 5.0, True)\n",
      "(20, 15, 0.5, True)\n",
      "(20, 10, 5.0, False)\n",
      "(20, 20, 0.5, False)\n",
      "(50, 5, 0.0, True)\n",
      "(20, 15, 5.0, False)\n",
      "(50, 5, 1.0, False)\n",
      "(50, 15, 0.5, False)\n",
      "(20, 15, 0.5, False)\n",
      "(50, 5, 0.0, False)\n",
      "(20, 20, 1.0, True)\n",
      "(20, 20, 0.0, True)\n",
      "(50, 10, 0.5, True)\n",
      "(50, 5, 5.0, True)\n",
      "(50, 10, 5.0, False)\n",
      "(20, 15, 1.0, True)\n",
      "(50, 5, 0.5, True)\n",
      "(50, 5, 5.0, False)\n",
      "(20, 20, 1.0, False)\n",
      "(20, 20, 0.0, False)\n",
      "(50, 20, 0.0, True)\n",
      "(50, 15, 1.0, True)\n",
      "(50, 10, 0.5, False)\n",
      "(50, 5, 0.5, False)\n",
      "(50, 15, 0.0, True)\n",
      "(50, 10, 0.0, True)\n",
      "(20, 20, 5.0, True)\n",
      "(50, 20, 1.0, False)\n",
      "(100, 5, 0.5, True)\n",
      "(50, 10, 1.0, True)\n",
      "(100, 5, 5.0, False)\n",
      "(100, 10, 1.0, True)\n",
      "(50, 15, 1.0, False)\n",
      "(50, 15, 0.0, False)\n",
      "(100, 5, 0.5, False)\n",
      "(50, 20, 0.0, False)\n",
      "(50, 10, 1.0, False)\n",
      "(100, 10, 0.0, True)\n",
      "(50, 20, 5.0, True)\n",
      "(100, 5, 1.0, True)\n",
      "(50, 15, 5.0, True)\n",
      "(50, 15, 0.5, True)\n",
      "(100, 15, 0.0, False)\n",
      "(100, 10, 1.0, False)\n",
      "(50, 20, 0.5, True)\n",
      "(100, 5, 1.0, False)\n",
      "(100, 10, 0.0, False)\n",
      "(50, 15, 5.0, False)\n",
      "(50, 20, 5.0, False)\n",
      "(100, 15, 5.0, True)\n",
      "(100, 5, 5.0, True)\n",
      "(100, 10, 5.0, True)\n",
      "(50, 20, 0.5, False)\n",
      "(100, 20, 0.5, False)\n",
      "(100, 15, 0.5, True)\n",
      "(100, 10, 0.5, True)\n",
      "(100, 5, 0.0, True)\n",
      "(100, 10, 5.0, False)\n",
      "(100, 5, 0.0, False)\n",
      "(100, 15, 5.0, False)\n",
      "(50, 20, 1.0, True)\n",
      "(100, 10, 0.5, False)\n",
      "(100, 15, 0.5, False)\n",
      "(100, 15, 0.0, True)\n",
      "(100, 20, 1.0, True)\n",
      "(100, 20, 0.0, True)\n",
      "(100, 15, 1.0, True)\n",
      "(100, 20, 1.0, False)\n",
      "(100, 20, 0.0, False)\n",
      "(100, 15, 1.0, False)\n",
      "(100, 20, 5.0, True)\n",
      "(100, 20, 0.5, True)\n",
      "(100, 20, 5.0, False)\n"
     ]
    },
    {
     "data": {
      "text/plain": [
       "[None,\n",
       " None,\n",
       " None,\n",
       " None,\n",
       " None,\n",
       " None,\n",
       " None,\n",
       " None,\n",
       " None,\n",
       " None,\n",
       " None,\n",
       " None,\n",
       " None,\n",
       " None,\n",
       " None,\n",
       " None,\n",
       " None,\n",
       " None,\n",
       " None,\n",
       " None,\n",
       " None,\n",
       " None,\n",
       " None,\n",
       " None,\n",
       " None,\n",
       " None,\n",
       " None,\n",
       " None,\n",
       " None,\n",
       " None,\n",
       " None,\n",
       " None,\n",
       " None,\n",
       " None,\n",
       " None,\n",
       " None,\n",
       " None,\n",
       " None,\n",
       " None,\n",
       " None,\n",
       " None,\n",
       " None,\n",
       " None,\n",
       " None,\n",
       " None,\n",
       " None,\n",
       " None,\n",
       " None,\n",
       " None,\n",
       " None,\n",
       " None,\n",
       " None,\n",
       " None,\n",
       " None,\n",
       " None,\n",
       " None,\n",
       " None,\n",
       " None,\n",
       " None,\n",
       " None,\n",
       " None,\n",
       " None,\n",
       " None,\n",
       " None,\n",
       " None,\n",
       " None,\n",
       " None,\n",
       " None,\n",
       " None,\n",
       " None,\n",
       " None,\n",
       " None,\n",
       " None,\n",
       " None,\n",
       " None,\n",
       " None,\n",
       " None,\n",
       " None,\n",
       " None,\n",
       " None,\n",
       " None,\n",
       " None,\n",
       " None,\n",
       " None,\n",
       " None,\n",
       " None,\n",
       " None,\n",
       " None,\n",
       " None,\n",
       " None,\n",
       " None,\n",
       " None,\n",
       " None,\n",
       " None,\n",
       " None,\n",
       " None,\n",
       " None,\n",
       " None,\n",
       " None,\n",
       " None,\n",
       " None,\n",
       " None,\n",
       " None,\n",
       " None,\n",
       " None,\n",
       " None,\n",
       " None,\n",
       " None,\n",
       " None,\n",
       " None,\n",
       " None,\n",
       " None,\n",
       " None,\n",
       " None,\n",
       " None,\n",
       " None,\n",
       " None,\n",
       " None,\n",
       " None,\n",
       " None,\n",
       " None,\n",
       " None,\n",
       " None,\n",
       " None,\n",
       " None,\n",
       " None,\n",
       " None,\n",
       " None,\n",
       " None,\n",
       " None,\n",
       " None,\n",
       " None,\n",
       " None,\n",
       " None,\n",
       " None,\n",
       " None,\n",
       " None,\n",
       " None,\n",
       " None,\n",
       " None,\n",
       " None,\n",
       " None,\n",
       " None,\n",
       " None,\n",
       " None,\n",
       " None,\n",
       " None,\n",
       " None,\n",
       " None,\n",
       " None,\n",
       " None,\n",
       " None,\n",
       " None,\n",
       " None,\n",
       " None,\n",
       " None,\n",
       " None,\n",
       " None,\n",
       " None,\n",
       " None]"
      ]
     },
     "execution_count": 32,
     "metadata": {},
     "output_type": "execute_result"
    }
   ],
   "source": [
    "import multiprocessing as mp\n",
    "\n",
    "random_bayes_results = {}\n",
    "single_bayes_results = {}\n",
    "\n",
    "pool = mp.Pool(8)\n",
    "pool.map(process, combinations)"
   ]
  },
  {
   "cell_type": "code",
   "execution_count": null,
   "metadata": {},
   "outputs": [],
   "source": []
  }
 ],
 "metadata": {
  "kernelspec": {
   "display_name": "Python 3",
   "language": "python",
   "name": "python3"
  },
  "language_info": {
   "codemirror_mode": {
    "name": "ipython",
    "version": 3
   },
   "file_extension": ".py",
   "mimetype": "text/x-python",
   "name": "python",
   "nbconvert_exporter": "python",
   "pygments_lexer": "ipython3",
   "version": "3.7.0"
  }
 },
 "nbformat": 4,
 "nbformat_minor": 2
}
